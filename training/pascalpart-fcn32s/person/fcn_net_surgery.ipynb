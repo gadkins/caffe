{
 "cells": [
  {
   "cell_type": "code",
   "execution_count": 2,
   "metadata": {
    "collapsed": false
   },
   "outputs": [],
   "source": [
    "import numpy as np\n",
    "import matplotlib.pyplot as plt\n",
    "%matplotlib inline\n",
    "\n",
    "caffe_root = '/home/cv/hdl/caffe'\n",
    "import sys\n",
    "sys.path.insert(0, caffe_root + 'python')\n",
    "\n",
    "import caffe\n",
    "\n",
    "caffe.set_device(0)\n",
    "caffe.set_mode_gpu()\n",
    "\n",
    "caffe_root = '/home/cv/hdl/caffe'"
   ]
  },
  {
   "cell_type": "code",
   "execution_count": 3,
   "metadata": {
    "collapsed": false
   },
   "outputs": [],
   "source": [
    "# Load the source network and extract the fully connected layers' parameters.\n",
    "net = caffe.Net('{}/models/vgg16/VGG_ILSVRC_16_layers_deploy.prototxt'.format(caffe_root), \n",
    "                '{}/models/vgg16/VGG_ILSVRC_16_layers.caffemodel'.format(caffe_root), \n",
    "                caffe.TEST)\n",
    "src_params = ['fc6', 'fc7']\n",
    "# params = [pr for pr in net.params.keys() if 'fc8' not in pr]\n"
   ]
  },
  {
   "cell_type": "code",
   "execution_count": 4,
   "metadata": {
    "collapsed": false
   },
   "outputs": [],
   "source": [
    "# Load the fully convolutional network to transplant the parameters.\n",
    "net_full_conv = caffe.Net('head/model/deploy.prototxt',\n",
    "                          caffe.TEST)\n",
    "solver = caffe.SGDSolver('head/model/solver.prototxt')\n",
    "dest_params = ['fc6', 'fc7']\n",
    "# params_full_conv = [pr for pr in net_full_conv.params.keys() if 'score' not in pr]\n"
   ]
  },
  {
   "cell_type": "code",
   "execution_count": 5,
   "metadata": {
    "collapsed": false
   },
   "outputs": [],
   "source": [
    "# First: copy shared layers\n",
    "shared_layers = set(net.params.keys()) & set(net_full_conv.params.keys())\n",
    "shared_layers -= set(src_params + dest_params)"
   ]
  },
  {
   "cell_type": "code",
   "execution_count": 6,
   "metadata": {
    "collapsed": false
   },
   "outputs": [
    {
     "name": "stdout",
     "output_type": "stream",
     "text": [
      "('Copying shared layer', 'conv1_1')\n",
      "('Copying shared layer', 'conv1_2')\n",
      "('Copying shared layer', 'conv2_1')\n",
      "('Copying shared layer', 'conv2_2')\n",
      "('Copying shared layer', 'conv3_1')\n",
      "('Copying shared layer', 'conv3_2')\n",
      "('Copying shared layer', 'conv3_3')\n",
      "('Copying shared layer', 'conv4_1')\n",
      "('Copying shared layer', 'conv4_2')\n",
      "('Copying shared layer', 'conv4_3')\n",
      "('Copying shared layer', 'conv5_1')\n",
      "('Copying shared layer', 'conv5_2')\n",
      "('Copying shared layer', 'conv5_3')\n"
     ]
    }
   ],
   "source": [
    "for layer in sorted(list(shared_layers)):\n",
    "    print(\"Copying shared layer\",layer)\n",
    "    net_full_conv.params[layer][0].data[...] = net.params[layer][0].data\n",
    "    net_full_conv.params[layer][1].data[...] = net.params[layer][1].data"
   ]
  },
  {
   "cell_type": "code",
   "execution_count": 7,
   "metadata": {
    "collapsed": false
   },
   "outputs": [
    {
     "name": "stdout",
     "output_type": "stream",
     "text": [
      "fc6 weights are (4096, 25088) dimensional and biases are (4096,) dimensional\n",
      "fc7 weights are (4096, 4096) dimensional and biases are (4096,) dimensional\n"
     ]
    }
   ],
   "source": [
    "# Second: copy over fully connected layers\n",
    "# fc_params = {name: (weights, biases)}\n",
    "fc_params = {pr: (net.params[pr][0].data, net.params[pr][1].data) for pr in src_params}\n",
    "\n",
    "for fc in src_params:\n",
    "    print '{} weights are {} dimensional and biases are {} dimensional'.format(fc, fc_params[fc][0].shape, fc_params[fc][1].shape)"
   ]
  },
  {
   "cell_type": "code",
   "execution_count": 8,
   "metadata": {
    "collapsed": false
   },
   "outputs": [
    {
     "name": "stdout",
     "output_type": "stream",
     "text": [
      "fc6 weights are (4096, 512, 7, 7) dimensional and biases are (4096,) dimensional\n",
      "fc7 weights are (4096, 4096, 1, 1) dimensional and biases are (4096,) dimensional\n"
     ]
    }
   ],
   "source": [
    "# conv_params = {name: (weights, biases)}\n",
    "conv_params = {pr: (net_full_conv.params[pr][0].data, net_full_conv.params[pr][1].data) for pr in dest_params}\n",
    "\n",
    "for conv in dest_params:\n",
    "    print '{} weights are {} dimensional and biases are {} dimensional'.format(conv, conv_params[conv][0].shape, conv_params[conv][1].shape)"
   ]
  },
  {
   "cell_type": "code",
   "execution_count": 9,
   "metadata": {
    "collapsed": false
   },
   "outputs": [],
   "source": [
    "for pr, pr_conv in zip(src_params, dest_params):\n",
    "    conv_params[pr_conv][0].flat = fc_params[pr][0].flat  # flat unrolls the arrays\n",
    "    conv_params[pr_conv][1][...] = fc_params[pr][1]"
   ]
  },
  {
   "cell_type": "markdown",
   "metadata": {},
   "source": [
    "Next, save the new model weights."
   ]
  },
  {
   "cell_type": "code",
   "execution_count": 10,
   "metadata": {
    "collapsed": false
   },
   "outputs": [],
   "source": [
    "net_full_conv.save('alt_vgg16fc.caffemodel')"
   ]
  },
  {
   "cell_type": "code",
   "execution_count": 15,
   "metadata": {
    "collapsed": false
   },
   "outputs": [
    {
     "name": "stdout",
     "output_type": "stream",
     "text": [
      "[[[[  3.90147837e-03]]\n",
      "\n",
      "  [[  5.35322493e-03]]\n",
      "\n",
      "  [[ -3.13405343e-03]]\n",
      "\n",
      "  ..., \n",
      "  [[ -4.24027257e-03]]\n",
      "\n",
      "  [[  2.78731284e-04]]\n",
      "\n",
      "  [[  4.96918161e-04]]]\n",
      "\n",
      "\n",
      " [[[ -1.80806511e-03]]\n",
      "\n",
      "  [[ -2.31539086e-03]]\n",
      "\n",
      "  [[ -8.60718792e-05]]\n",
      "\n",
      "  ..., \n",
      "  [[ -4.14406357e-04]]\n",
      "\n",
      "  [[  9.56191774e-03]]\n",
      "\n",
      "  [[  1.63843471e-03]]]\n",
      "\n",
      "\n",
      " [[[  1.36159221e-03]]\n",
      "\n",
      "  [[ -3.61574744e-03]]\n",
      "\n",
      "  [[  2.81324098e-03]]\n",
      "\n",
      "  ..., \n",
      "  [[ -7.89196289e-04]]\n",
      "\n",
      "  [[ -6.20277831e-04]]\n",
      "\n",
      "  [[ -9.92762507e-04]]]\n",
      "\n",
      "\n",
      " ..., \n",
      " [[[  1.05189125e-03]]\n",
      "\n",
      "  [[ -8.41525383e-04]]\n",
      "\n",
      "  [[  2.33084010e-03]]\n",
      "\n",
      "  ..., \n",
      "  [[  6.79930439e-03]]\n",
      "\n",
      "  [[ -2.16196757e-03]]\n",
      "\n",
      "  [[ -4.49770268e-05]]]\n",
      "\n",
      "\n",
      " [[[ -5.83238620e-03]]\n",
      "\n",
      "  [[ -1.55866274e-03]]\n",
      "\n",
      "  [[  4.52873018e-03]]\n",
      "\n",
      "  ..., \n",
      "  [[  3.37824528e-03]]\n",
      "\n",
      "  [[  5.90845896e-03]]\n",
      "\n",
      "  [[ -3.50919843e-04]]]\n",
      "\n",
      "\n",
      " [[[  1.55499880e-03]]\n",
      "\n",
      "  [[  5.22026513e-03]]\n",
      "\n",
      "  [[ -6.23492757e-03]]\n",
      "\n",
      "  ..., \n",
      "  [[  2.13007792e-03]]\n",
      "\n",
      "  [[  1.76626071e-03]]\n",
      "\n",
      "  [[  5.03490586e-03]]]]\n"
     ]
    }
   ],
   "source": [
    "print net_full_conv.params['fc7'][0].data"
   ]
  },
  {
   "cell_type": "code",
   "execution_count": null,
   "metadata": {
    "collapsed": true
   },
   "outputs": [],
   "source": []
  }
 ],
 "metadata": {
  "description": "How to do net surgery and manually change model parameters for custom use.",
  "example_name": "Editing model parameters",
  "include_in_docs": true,
  "kernelspec": {
   "display_name": "Python 2",
   "language": "python",
   "name": "python2"
  },
  "language_info": {
   "codemirror_mode": {
    "name": "ipython",
    "version": 2
   },
   "file_extension": ".py",
   "mimetype": "text/x-python",
   "name": "python",
   "nbconvert_exporter": "python",
   "pygments_lexer": "ipython2",
   "version": "2.7.6"
  },
  "priority": 5
 },
 "nbformat": 4,
 "nbformat_minor": 0
}
