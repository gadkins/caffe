{
 "cells": [
  {
   "cell_type": "code",
   "execution_count": 1,
   "metadata": {
    "collapsed": true
   },
   "outputs": [],
   "source": [
    "%matplotlib inline\n",
    "import matplotlib.pyplot as plt\n",
    "import matplotlib.image as mpimg\n",
    "import numpy as np\n",
    "from PIL import Image\n",
    "import caffe\n",
    "import setproctitle\n",
    "import os, sys\n",
    "import score\n",
    "import tools\n",
    "from copy import copy\n",
    "import time\n",
    "import setup\n",
    "import training_tools as tt"
   ]
  },
  {
   "cell_type": "code",
   "execution_count": 2,
   "metadata": {
    "collapsed": false
   },
   "outputs": [],
   "source": [
    "setproctitle.setproctitle(os.path.basename(os.getcwd()))\n",
    "\n",
    "caffe_root = '/home/cv/hdl/caffe'\n",
    "models = '{}/models'.format(caffe_root)\n",
    "voc_dir = '{}/data/pascal/VOC/VOC2010'.format(caffe_root)\n",
    "snapshot = 'snapshot'\n",
    "part1 = 'head'\n",
    "part2 = 'torso'\n",
    "joint_parts = 'head+torso'\n",
    "parts = [part1, part2, joint_parts]\n",
    "\n",
    "# generated using **new** fcn_net_surgery.ipynb\n",
    "base_weights = 'vgg_no_bilinear_vgg16fc.caffemodel'\n",
    "classes = np.asarray(['background', 'head', 'torso', 'head+torso', 'left arm', 'right arm', 'arms', 'left leg', 'right leg', 'legs', 'person'])"
   ]
  },
  {
   "cell_type": "code",
   "execution_count": 3,
   "metadata": {
    "collapsed": true
   },
   "outputs": [],
   "source": [
    "# setup\n",
    "t = time.time()"
   ]
  },
  {
   "cell_type": "code",
   "execution_count": 9,
   "metadata": {
    "collapsed": false
   },
   "outputs": [],
   "source": [
    "# init\n",
    "caffe.set_device(0)\n",
    "caffe.set_mode_gpu()\n",
    "\n",
    "# load net\n",
    "net_joint = tt.get_net(joint_parts)\n",
    "\n",
    "layers = [l for l in net_joint.params.keys() if 'score' not in l]\n",
    "\n",
    "# load solvers\n",
    "net_1_solver = tt.get_solver(part1)\n",
    "net_2_solver = tt.get_solver(part2)\n",
    "net_joint_solver = tt.get_solver(joint_parts)\n",
    "\n",
    "# load pre-trained nets 1 & 2\n",
    "net_1_solver.net.copy_from(tt.get_caffemodel(part1, 44000))\n",
    "net_2_solver.net.copy_from(tt.get_caffemodel(part2, 80000))\n",
    "\n",
    "# get max params between nets 1 and 2\n",
    "maximas = tt.max_params(net_1_solver.net, net_2_solver.net, layers)\n",
    "\n",
    "# save newly initialized joint net\n",
    "# net_joint.save('part_maximas_net_joint.caffemodel')\n",
    "\n",
    "# copy max params to joint net\n",
    "net_joint_params = {l: (net_joint_solver.net.params[l][0].data, net_joint_solver.net.params[l][1].data) for l in layers}\n",
    "tt.copy_params(maximas, net_joint_params, layers)\n",
    "\n",
    "# copy max params to joint net\n",
    "# net_joint_solver.net.copy_from(weights)\n",
    "\n",
    "# surgeries (for bilinear interpolation in deconv layers)\n",
    "tt.do_surgery(net_joint_solver)\n",
    "\n",
    "net_joint_solver.test_nets[0].share_with(net_joint_solver.net)\n",
    "\n",
    "val_joint = np.loadtxt('{}/ImageSets/person/{}_val.txt'.format(voc_dir, joint_parts), dtype=str)\n",
    "seg_results = '{}/model/segmentation_results'.format(joint_parts)"
   ]
  },
  {
   "cell_type": "code",
   "execution_count": 10,
   "metadata": {
    "collapsed": false
   },
   "outputs": [
    {
     "ename": "KeyboardInterrupt",
     "evalue": "",
     "output_type": "error",
     "traceback": [
      "\u001b[1;31m---------------------------------------------------------------------------\u001b[0m",
      "\u001b[1;31mKeyboardInterrupt\u001b[0m                         Traceback (most recent call last)",
      "\u001b[1;32m<ipython-input-10-750bd3f0a8a3>\u001b[0m in \u001b[0;36m<module>\u001b[1;34m()\u001b[0m\n\u001b[0;32m      1\u001b[0m \u001b[1;32mfor\u001b[0m \u001b[0m_\u001b[0m \u001b[1;32min\u001b[0m \u001b[0mrange\u001b[0m\u001b[1;33m(\u001b[0m\u001b[1;36m800\u001b[0m\u001b[1;33m)\u001b[0m\u001b[1;33m:\u001b[0m\u001b[1;33m\u001b[0m\u001b[0m\n\u001b[1;32m----> 2\u001b[1;33m     \u001b[0mnet_joint_solver\u001b[0m\u001b[1;33m.\u001b[0m\u001b[0mstep\u001b[0m\u001b[1;33m(\u001b[0m\u001b[1;36m100\u001b[0m\u001b[1;33m)\u001b[0m\u001b[1;33m\u001b[0m\u001b[0m\n\u001b[0m",
      "\u001b[1;32m/home/cv/hdl/caffe/models/pascalpart_layers.pyc\u001b[0m in \u001b[0;36mreshape\u001b[1;34m(self, bottom, top)\u001b[0m\n\u001b[0;32m    114\u001b[0m     \u001b[1;32mdef\u001b[0m \u001b[0mreshape\u001b[0m\u001b[1;33m(\u001b[0m\u001b[0mself\u001b[0m\u001b[1;33m,\u001b[0m \u001b[0mbottom\u001b[0m\u001b[1;33m,\u001b[0m \u001b[0mtop\u001b[0m\u001b[1;33m)\u001b[0m\u001b[1;33m:\u001b[0m\u001b[1;33m\u001b[0m\u001b[0m\n\u001b[0;32m    115\u001b[0m         \u001b[1;31m# load image + label image pair\u001b[0m\u001b[1;33m\u001b[0m\u001b[1;33m\u001b[0m\u001b[0m\n\u001b[1;32m--> 116\u001b[1;33m         \u001b[0mself\u001b[0m\u001b[1;33m.\u001b[0m\u001b[0mdata\u001b[0m \u001b[1;33m=\u001b[0m \u001b[0mself\u001b[0m\u001b[1;33m.\u001b[0m\u001b[0mload_image\u001b[0m\u001b[1;33m(\u001b[0m\u001b[0mself\u001b[0m\u001b[1;33m.\u001b[0m\u001b[0mindices\u001b[0m\u001b[1;33m[\u001b[0m\u001b[0mself\u001b[0m\u001b[1;33m.\u001b[0m\u001b[0midx\u001b[0m\u001b[1;33m]\u001b[0m\u001b[1;33m)\u001b[0m\u001b[1;33m\u001b[0m\u001b[0m\n\u001b[0m\u001b[0;32m    117\u001b[0m         \u001b[0mself\u001b[0m\u001b[1;33m.\u001b[0m\u001b[0mlabel\u001b[0m \u001b[1;33m=\u001b[0m \u001b[0mself\u001b[0m\u001b[1;33m.\u001b[0m\u001b[0mload_label\u001b[0m\u001b[1;33m(\u001b[0m\u001b[0mself\u001b[0m\u001b[1;33m.\u001b[0m\u001b[0mindices\u001b[0m\u001b[1;33m[\u001b[0m\u001b[0mself\u001b[0m\u001b[1;33m.\u001b[0m\u001b[0midx\u001b[0m\u001b[1;33m]\u001b[0m\u001b[1;33m)\u001b[0m\u001b[1;33m\u001b[0m\u001b[0m\n\u001b[0;32m    118\u001b[0m         \u001b[1;31m# reshape tops to fit (leading 1 is for batch dimension)\u001b[0m\u001b[1;33m\u001b[0m\u001b[1;33m\u001b[0m\u001b[0m\n",
      "\u001b[1;32m/home/cv/hdl/caffe/models/pascalpart_layers.pyc\u001b[0m in \u001b[0;36mload_image\u001b[1;34m(self, idx)\u001b[0m\n\u001b[0;32m    146\u001b[0m         \u001b[1;31m#im = Image.open('{}/JPEGImages/{}.jpg'.format(self.voc_dir, idx))\u001b[0m\u001b[1;33m\u001b[0m\u001b[1;33m\u001b[0m\u001b[0m\n\u001b[0;32m    147\u001b[0m \tim = Image.open('{}/images/{}/{}/{}.jpg'.format(self.part_dir, self.obj_cls, \n\u001b[1;32m--> 148\u001b[1;33m \t\tself.part, idx))\n\u001b[0m\u001b[0;32m    149\u001b[0m         \u001b[0min_\u001b[0m \u001b[1;33m=\u001b[0m \u001b[0mnp\u001b[0m\u001b[1;33m.\u001b[0m\u001b[0marray\u001b[0m\u001b[1;33m(\u001b[0m\u001b[0mim\u001b[0m\u001b[1;33m,\u001b[0m \u001b[0mdtype\u001b[0m\u001b[1;33m=\u001b[0m\u001b[0mnp\u001b[0m\u001b[1;33m.\u001b[0m\u001b[0mfloat32\u001b[0m\u001b[1;33m)\u001b[0m\u001b[1;33m\u001b[0m\u001b[0m\n\u001b[0;32m    150\u001b[0m         \u001b[0min_\u001b[0m \u001b[1;33m=\u001b[0m \u001b[0min_\u001b[0m\u001b[1;33m[\u001b[0m\u001b[1;33m:\u001b[0m\u001b[1;33m,\u001b[0m\u001b[1;33m:\u001b[0m\u001b[1;33m,\u001b[0m\u001b[1;33m:\u001b[0m\u001b[1;33m:\u001b[0m\u001b[1;33m-\u001b[0m\u001b[1;36m1\u001b[0m\u001b[1;33m]\u001b[0m\u001b[1;33m\u001b[0m\u001b[0m\n",
      "\u001b[1;32m/usr/local/lib/python2.7/dist-packages/PIL/Image.pyc\u001b[0m in \u001b[0;36mopen\u001b[1;34m(fp, mode)\u001b[0m\n\u001b[0;32m   2263\u001b[0m         \u001b[0mfp\u001b[0m \u001b[1;33m=\u001b[0m \u001b[0mio\u001b[0m\u001b[1;33m.\u001b[0m\u001b[0mBytesIO\u001b[0m\u001b[1;33m(\u001b[0m\u001b[0mfp\u001b[0m\u001b[1;33m.\u001b[0m\u001b[0mread\u001b[0m\u001b[1;33m(\u001b[0m\u001b[1;33m)\u001b[0m\u001b[1;33m)\u001b[0m\u001b[1;33m\u001b[0m\u001b[0m\n\u001b[0;32m   2264\u001b[0m \u001b[1;33m\u001b[0m\u001b[0m\n\u001b[1;32m-> 2265\u001b[1;33m     \u001b[0mprefix\u001b[0m \u001b[1;33m=\u001b[0m \u001b[0mfp\u001b[0m\u001b[1;33m.\u001b[0m\u001b[0mread\u001b[0m\u001b[1;33m(\u001b[0m\u001b[1;36m16\u001b[0m\u001b[1;33m)\u001b[0m\u001b[1;33m\u001b[0m\u001b[0m\n\u001b[0m\u001b[0;32m   2266\u001b[0m \u001b[1;33m\u001b[0m\u001b[0m\n\u001b[0;32m   2267\u001b[0m     \u001b[0mpreinit\u001b[0m\u001b[1;33m(\u001b[0m\u001b[1;33m)\u001b[0m\u001b[1;33m\u001b[0m\u001b[0m\n",
      "\u001b[1;31mKeyboardInterrupt\u001b[0m: "
     ]
    }
   ],
   "source": [
    "for _ in range(800):\n",
    "    net_joint_solver.step(100)"
   ]
  },
  {
   "cell_type": "code",
   "execution_count": null,
   "metadata": {
    "collapsed": true
   },
   "outputs": [],
   "source": []
  }
 ],
 "metadata": {
  "kernelspec": {
   "display_name": "Python 2",
   "language": "python",
   "name": "python2"
  },
  "language_info": {
   "codemirror_mode": {
    "name": "ipython",
    "version": 2
   },
   "file_extension": ".py",
   "mimetype": "text/x-python",
   "name": "python",
   "nbconvert_exporter": "python",
   "pygments_lexer": "ipython2",
   "version": "2.7.6"
  }
 },
 "nbformat": 4,
 "nbformat_minor": 0
}
