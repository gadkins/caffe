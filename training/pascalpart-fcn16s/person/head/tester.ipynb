{
 "cells": [
  {
   "cell_type": "code",
   "execution_count": 1,
   "metadata": {
    "collapsed": true
   },
   "outputs": [],
   "source": [
    "%matplotlib inline\n",
    "import matplotlib.pyplot as plt\n",
    "import matplotlib.image as mpimg\n",
    "import numpy as np\n",
    "from PIL import Image\n",
    "import caffe\n",
    "import score\n",
    "import tools\n",
    "import time"
   ]
  },
  {
   "cell_type": "code",
   "execution_count": 2,
   "metadata": {
    "collapsed": true
   },
   "outputs": [],
   "source": [
    "def fast_hist(a, b, n):\n",
    "    k = (a >= 0) & (a < n) # a boolean index array \n",
    "    # Select only positive samples less than # of classes (i.e. values 0 - 10 for 11-class fcn)\n",
    "    return np.bincount(n * a[k].astype(int) + b[k], minlength=n**2).reshape(n, n)\n",
    "\n",
    "def compute_hist(net, save_dir, dataset, layer='score', gt='label'):\n",
    "    # N.B. channels refers to num_output pages for FCN\n",
    "    n_cl = net.blobs[layer].channels\n",
    "    if save_dir:    \n",
    "    \tos.mkdir(save_dir)\n",
    "    hist = np.zeros((n_cl, n_cl))\n",
    "    loss = 0\n",
    "    for idx in dataset:\n",
    "        net.forward()\n",
    "        hist += fast_hist(net.blobs[gt].data[0, 0].flatten(),\n",
    "                                net.blobs[layer].data[0].argmax(0).flatten(),\n",
    "                                n_cl)\n",
    "\n",
    "        if save_dir:\n",
    "            im = Image.fromarray(net.blobs[layer].data[0].argmax(0).astype(np.uint8), mode='P')\n",
    "            im.save(os.path.join(save_dir, idx + '.png'))\n",
    "        # compute the loss as well\n",
    "        loss += net.blobs['loss'].data.flat[0]\n",
    "    return hist, loss / len(dataset)\n",
    "\n",
    "def seg_tests(solver, save_format, dataset, layer='score', gt='label'):\n",
    "    print '>>>', datetime.now(), 'Begin seg tests'\n",
    "    solver.test_nets[0].share_with(solver.net)\n",
    "    do_seg_tests(solver.test_nets[0], solver.iter, save_format, dataset, layer, gt)\n",
    "\n",
    "def do_seg_tests(net, iter, save_format, dataset, layer='score', gt='label'):\n",
    "    n_cl = net.blobs[layer].channels\n",
    "    if save_format:\n",
    "        save_format = save_format.format(iter)\n",
    "    hist, loss = compute_hist(net, save_format, dataset, layer, gt)\n",
    "    # mean loss\n",
    "    print '>>>', datetime.now(), 'Iteration', iter, 'loss', loss\n",
    "    # overall accuracy\n",
    "    acc = np.diag(hist).sum() / hist.sum()\n",
    "    print '>>>', datetime.now(), 'Iteration', iter, 'overall accuracy', acc\n",
    "    # per-class accuracy\n",
    "    acc = np.diag(hist) / hist.sum(1)\n",
    "    print '>>>', datetime.now(), 'Iteration', iter, 'mean accuracy', np.nanmean(acc)\n",
    "    # per-class IU\n",
    "    iu = np.diag(hist) / (hist.sum(1) + hist.sum(0) - np.diag(hist))\n",
    "    print '>>>', datetime.now(), 'Iteration', iter, 'mean IU', np.nanmean(iu)\n",
    "    freq = hist.sum(1) / hist.sum()\n",
    "    print '>>>', datetime.now(), 'Iteration', iter, 'fwavacc', \\\n",
    "            (freq[freq > 0] * iu[freq > 0]).sum()\n",
    "    return hist"
   ]
  },
  {
   "cell_type": "code",
   "execution_count": 40,
   "metadata": {
    "collapsed": false
   },
   "outputs": [
    {
     "data": {
      "text/plain": [
       "{'loss': array([[[[  9.95092869e-01,   9.96280730e-01,   9.97169197e-01, ...,\n",
       "             9.99343455e-01,   9.99278843e-01,   9.99208510e-01],\n",
       "          [  9.96129394e-01,   9.97083485e-01,   9.97792721e-01, ...,\n",
       "             9.99553621e-01,   9.99507308e-01,   9.99456465e-01],\n",
       "          [  9.96939063e-01,   9.97706890e-01,   9.98275042e-01, ...,\n",
       "             9.99696612e-01,   9.99663115e-01,   9.99626398e-01],\n",
       "          ..., \n",
       "          [  9.97877121e-01,   9.98381019e-01,   9.98760223e-01, ...,\n",
       "             9.92164135e-01,   9.92051721e-01,   9.91936207e-01],\n",
       "          [  9.97471094e-01,   9.98054147e-01,   9.98497009e-01, ...,\n",
       "             9.91981149e-01,   9.91844356e-01,   9.91704464e-01],\n",
       "          [  9.96987283e-01,   9.97662425e-01,   9.98177409e-01, ...,\n",
       "             9.91791368e-01,   9.91630018e-01,   9.91463721e-01]],\n",
       " \n",
       "         [[  3.35818529e-03,   2.65010446e-03,   2.09068949e-03, ...,\n",
       "             4.02257487e-04,   4.38195333e-04,   4.77340742e-04],\n",
       "          [  2.72397278e-03,   2.13352707e-03,   1.67065277e-03, ...,\n",
       "             2.73080776e-04,   2.99320032e-04,   3.28079681e-04],\n",
       "          [  2.20902730e-03,   1.71733310e-03,   1.33481249e-03, ...,\n",
       "             1.85373661e-04,   2.04442971e-04,   2.25473006e-04],\n",
       "          ..., \n",
       "          [  1.69014069e-03,   1.32839335e-03,   1.04394276e-03, ...,\n",
       "             7.42580462e-03,   7.51194218e-03,   7.59906182e-03],\n",
       "          [  2.01353291e-03,   1.59689400e-03,   1.26628880e-03, ...,\n",
       "             7.57171726e-03,   7.67879141e-03,   7.78735522e-03],\n",
       "          [  2.39861337e-03,   1.91954023e-03,   1.53590331e-03, ...,\n",
       "             7.72043271e-03,   7.84928445e-03,   7.98023399e-03]],\n",
       " \n",
       "         [[  1.09826599e-03,   7.87912810e-04,   5.65089111e-04, ...,\n",
       "             2.39959205e-04,   2.64863455e-04,   2.92350160e-04],\n",
       "          [  8.46425653e-04,   5.99408522e-04,   4.24374768e-04, ...,\n",
       "             1.65640857e-04,   1.83829092e-04,   2.04014155e-04],\n",
       "          [  6.52184710e-04,   4.55920235e-04,   3.18654114e-04, ...,\n",
       "             1.14332142e-04,   1.27578081e-04,   1.42357923e-04],\n",
       "          ..., \n",
       "          [  3.34683777e-04,   2.32537757e-04,   1.61546821e-04, ...,\n",
       "             3.92084534e-04,   4.15400311e-04,   4.40101838e-04],\n",
       "          [  3.93628405e-04,   2.75631726e-04,   1.92979380e-04, ...,\n",
       "             4.26332350e-04,   4.52268432e-04,   4.79780807e-04],\n",
       "          [  4.62917727e-04,   3.26690322e-04,   2.30514604e-04, ...,\n",
       "             4.63567791e-04,   4.92404739e-04,   5.23032213e-04]],\n",
       " \n",
       "         ..., \n",
       "         [[  5.63904941e-05,   3.51485141e-05,   2.19015965e-05, ...,\n",
       "             1.79748895e-06,   2.20382776e-06,   2.70200781e-06],\n",
       "          [  3.75150739e-05,   2.29072557e-05,   1.39840622e-05, ...,\n",
       "             9.34188165e-07,   1.15902299e-06,   1.43796581e-06],\n",
       "          [  2.49520108e-05,   1.49265825e-05,   8.92746266e-06, ...,\n",
       "             4.85481678e-07,   6.09502081e-07,   7.65200639e-07],\n",
       "          ..., \n",
       "          [  1.22721822e-05,   7.29343446e-06,   4.33399509e-06, ...,\n",
       "             2.28156910e-06,   2.62927551e-06,   3.02996500e-06],\n",
       "          [  1.52165139e-05,   9.14550947e-06,   5.49591368e-06, ...,\n",
       "             2.65118206e-06,   3.05399112e-06,   3.51799326e-06],\n",
       "          [  1.88657541e-05,   1.14671484e-05,   6.96893539e-06, ...,\n",
       "             3.08064841e-06,   3.54728741e-06,   4.08458163e-06]],\n",
       " \n",
       "         [[  5.63904941e-05,   3.51485141e-05,   2.19015965e-05, ...,\n",
       "             1.79748895e-06,   2.20382776e-06,   2.70200781e-06],\n",
       "          [  3.75150739e-05,   2.29072557e-05,   1.39840622e-05, ...,\n",
       "             9.34188165e-07,   1.15902299e-06,   1.43796581e-06],\n",
       "          [  2.49520108e-05,   1.49265825e-05,   8.92746266e-06, ...,\n",
       "             4.85481678e-07,   6.09502081e-07,   7.65200639e-07],\n",
       "          ..., \n",
       "          [  1.22721822e-05,   7.29343446e-06,   4.33399509e-06, ...,\n",
       "             2.28156910e-06,   2.62927551e-06,   3.02996500e-06],\n",
       "          [  1.52165139e-05,   9.14550947e-06,   5.49591368e-06, ...,\n",
       "             2.65118206e-06,   3.05399112e-06,   3.51799326e-06],\n",
       "          [  1.88657541e-05,   1.14671484e-05,   6.96893539e-06, ...,\n",
       "             3.08064841e-06,   3.54728741e-06,   4.08458163e-06]],\n",
       " \n",
       "         [[  5.63904941e-05,   3.51485141e-05,   2.19015965e-05, ...,\n",
       "             1.79748895e-06,   2.20382776e-06,   2.70200781e-06],\n",
       "          [  3.75150739e-05,   2.29072557e-05,   1.39840622e-05, ...,\n",
       "             9.34188165e-07,   1.15902299e-06,   1.43796581e-06],\n",
       "          [  2.49520108e-05,   1.49265825e-05,   8.92746266e-06, ...,\n",
       "             4.85481678e-07,   6.09502081e-07,   7.65200639e-07],\n",
       "          ..., \n",
       "          [  1.22721822e-05,   7.29343446e-06,   4.33399509e-06, ...,\n",
       "             2.28156910e-06,   2.62927551e-06,   3.02996500e-06],\n",
       "          [  1.52165139e-05,   9.14550947e-06,   5.49591368e-06, ...,\n",
       "             2.65118206e-06,   3.05399112e-06,   3.51799326e-06],\n",
       "          [  1.88657541e-05,   1.14671484e-05,   6.96893539e-06, ...,\n",
       "             3.08064841e-06,   3.54728741e-06,   4.08458163e-06]]]], dtype=float32)}"
      ]
     },
     "execution_count": 40,
     "metadata": {},
     "output_type": "execute_result"
    }
   ],
   "source": [
    "caffe.set_device(0)\n",
    "caffe.set_mode_cpu()\n",
    "\n",
    "caffe_root = '/home/cv/hdl/caffe'\n",
    "part = 'head'\n",
    "models = '{}/models'.format(caffe_root)\n",
    "\n",
    "# load image, switch to BGR, subtract mean, and make dims C x H x W for Caffe\n",
    "im = Image.open('/home/cv/grayson/shelby_small.jpg')\n",
    "in_ = np.array(im, dtype=np.float32)\n",
    "in_ = in_[:,:,::-1]\n",
    "in_ -= np.array((104.00698793,116.66876762,122.67891434))\n",
    "in_ = in_.transpose((2,0,1))\n",
    "\n",
    "# load net\n",
    "# net = caffe.Net('model/deploy.prototxt',\n",
    "#                 '{}/pascalpart-fcn32s/person/head/old_snapshots/train_iter_176000.caffemodel'.format(models), \n",
    "#                 caffe.TEST)\n",
    "net = caffe.Net('model/deploy.prototxt',\n",
    "                'snapshot/train_iter_80000.caffemodel'.format(models), \n",
    "                caffe.TEST)\n",
    "\n",
    "# shape for input (data blob is N x C x H x W), set data\n",
    "net.blobs['data'].reshape(1, *in_.shape)\n",
    "net.blobs['data'].data[...] = in_\n",
    "\n",
    "# must do forward pass or else blobs and deconv params will be all zeroes\n",
    "net.forward()  "
   ]
  },
  {
   "cell_type": "code",
   "execution_count": 41,
   "metadata": {
    "collapsed": false
   },
   "outputs": [
    {
     "data": {
      "text/plain": [
       "0.99509287"
      ]
     },
     "execution_count": 41,
     "metadata": {},
     "output_type": "execute_result"
    }
   ],
   "source": [
    "# just the loss\n",
    "net.blobs['loss'].data.flat[0]"
   ]
  },
  {
   "cell_type": "code",
   "execution_count": 42,
   "metadata": {
    "collapsed": false
   },
   "outputs": [],
   "source": [
    "# solver = caffe.SGDSolver('model/solver.prototxt')\n",
    "# solver.test_nets[0].share_with(solver.net)\n",
    "# val = np.loadtxt('{}/data/pascal/VOC/VOC2010/ImageSets/person/{}_val.txt'.format(caffe_root, part), dtype=str)\n",
    "\n",
    "# hist, loss = do_seg_tests(solver.test_nets[0], solver.iter, False, val, 'score', 'label')\n",
    "\n",
    "# hist += fast_hist(net.blobs['label'].data[0, 0].flatten(),\n",
    "#                                 net.blobs['score'].data[0].argmax(0).flatten(),\n",
    "#                                 11)"
   ]
  },
  {
   "cell_type": "code",
   "execution_count": 43,
   "metadata": {
    "collapsed": true
   },
   "outputs": [],
   "source": [
    "# plt.figure()\n",
    "# plt.imshow(hist)"
   ]
  },
  {
   "cell_type": "code",
   "execution_count": 44,
   "metadata": {
    "collapsed": false,
    "scrolled": true
   },
   "outputs": [],
   "source": [
    "# print np.shape(net.blobs['label'].data[0,0])"
   ]
  },
  {
   "cell_type": "code",
   "execution_count": 45,
   "metadata": {
    "collapsed": false
   },
   "outputs": [],
   "source": [
    "# print np.shape(net.blobs['score'].data[0].argmax(0))\n",
    "# print np.unique(net.blobs['score'].data[0].argmax(0))"
   ]
  },
  {
   "cell_type": "code",
   "execution_count": 46,
   "metadata": {
    "collapsed": false
   },
   "outputs": [],
   "source": [
    "#solver = caffe.SGDSolver('solver.prototxt')\n",
    "#val = np.loadtxt('/home/cv/hdl/caffe/data/pascal/VOC/VOC2010/ImageSets/person/head_val.txt', dtype=str)"
   ]
  },
  {
   "cell_type": "code",
   "execution_count": 47,
   "metadata": {
    "collapsed": false
   },
   "outputs": [],
   "source": [
    "#hist, loss = score.compute_hist(solver.test_nets[0], 'segmentation_results', val, layer='score', gt='label' )"
   ]
  },
  {
   "cell_type": "code",
   "execution_count": 48,
   "metadata": {
    "collapsed": false
   },
   "outputs": [
    {
     "data": {
      "text/plain": [
       "11"
      ]
     },
     "execution_count": 48,
     "metadata": {},
     "output_type": "execute_result"
    }
   ],
   "source": [
    "net.blobs['score'].channels"
   ]
  },
  {
   "cell_type": "code",
   "execution_count": 49,
   "metadata": {
    "collapsed": false
   },
   "outputs": [],
   "source": [
    "# blobs\n",
    "# [(k, v.data.shape) for k, v in net.blobs.items()]"
   ]
  },
  {
   "cell_type": "code",
   "execution_count": 50,
   "metadata": {
    "collapsed": false
   },
   "outputs": [],
   "source": [
    "# parameters\n",
    "# [(k, v[0].data.shape) for k, v in net.params.items()]"
   ]
  },
  {
   "cell_type": "code",
   "execution_count": 51,
   "metadata": {
    "collapsed": false
   },
   "outputs": [],
   "source": [
    "# conv layer weights (edge_detectors)\n",
    "# print net.params['fc6'][0].data"
   ]
  },
  {
   "cell_type": "code",
   "execution_count": 52,
   "metadata": {
    "collapsed": false
   },
   "outputs": [],
   "source": [
    "# deconv layer weights\n",
    "# print net.params['conv1_1'][0].data"
   ]
  },
  {
   "cell_type": "code",
   "execution_count": 53,
   "metadata": {
    "collapsed": false
   },
   "outputs": [],
   "source": [
    "# data blob\n",
    "# print net.blobs['data'].data"
   ]
  },
  {
   "cell_type": "code",
   "execution_count": 54,
   "metadata": {
    "collapsed": false
   },
   "outputs": [],
   "source": [
    "# conv1_1 blob\n",
    "# print net.blobs['conv1_1'].data"
   ]
  },
  {
   "cell_type": "code",
   "execution_count": 55,
   "metadata": {
    "collapsed": false
   },
   "outputs": [],
   "source": [
    "# pool1 blob\n",
    "# print net.blobs['pool1'].data"
   ]
  },
  {
   "cell_type": "code",
   "execution_count": 56,
   "metadata": {
    "collapsed": false
   },
   "outputs": [],
   "source": [
    "# upscore blob\n",
    "# print net.blobs['upscore'].data.shape\n",
    "# print net.blobs['upscore'].data"
   ]
  },
  {
   "cell_type": "code",
   "execution_count": 57,
   "metadata": {
    "collapsed": false,
    "scrolled": true
   },
   "outputs": [
    {
     "name": "stdout",
     "output_type": "stream",
     "text": [
      "(11, 500, 650)\n",
      "Image size: (500, 650)\n",
      "Detected object classes: [0 1]\n"
     ]
    },
    {
     "data": {
      "image/png": "[encoded data removed]",
      "text/plain": [
       "<matplotlib.figure.Figure at 0x7f1d0daaaad0>"
      ]
     },
     "metadata": {},
     "output_type": "display_data"
    }
   ],
   "source": [
    "higher_level_filter = net.params['fc7'][0].data         # weights\n",
    "# Recall: blob dimensions are N x C x H x W\n",
    "print net.blobs['score'].data[0].shape\n",
    "out = net.blobs['score'].data[0].argmax(axis=0)\n",
    "fig = plt.figure()\n",
    "plt.axis('off')\n",
    "plt.title('head_inference')\n",
    "imgplot = plt.imshow(out)\n",
    "print 'Image size:', out.shape\n",
    "print 'Detected object classes:', np.unique(out)"
   ]
  },
  {
   "cell_type": "code",
   "execution_count": 39,
   "metadata": {
    "collapsed": true
   },
   "outputs": [],
   "source": [
    "fig.savefig('torso_inference.png')"
   ]
  },
  {
   "cell_type": "code",
   "execution_count": null,
   "metadata": {
    "collapsed": true
   },
   "outputs": [],
   "source": []
  }
 ],
 "metadata": {
  "kernelspec": {
   "display_name": "Python 2",
   "language": "python",
   "name": "python2"
  },
  "language_info": {
   "codemirror_mode": {
    "name": "ipython",
    "version": 2
   },
   "file_extension": ".py",
   "mimetype": "text/x-python",
   "name": "python",
   "nbconvert_exporter": "python",
   "pygments_lexer": "ipython2",
   "version": "2.7.6"
  }
 },
 "nbformat": 4,
 "nbformat_minor": 0
}
