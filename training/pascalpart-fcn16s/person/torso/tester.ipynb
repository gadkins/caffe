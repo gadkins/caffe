{
 "cells": [
  {
   "cell_type": "code",
   "execution_count": 1,
   "metadata": {
    "collapsed": true
   },
   "outputs": [],
   "source": [
    "%matplotlib inline\n",
    "import matplotlib.pyplot as plt\n",
    "import matplotlib.image as mpimg\n",
    "import numpy as np\n",
    "from PIL import Image\n",
    "import caffe\n",
    "import score\n",
    "import tools\n",
    "import time"
   ]
  },
  {
   "cell_type": "code",
   "execution_count": 2,
   "metadata": {
    "collapsed": true
   },
   "outputs": [],
   "source": [
    "def fast_hist(a, b, n):\n",
    "    k = (a >= 0) & (a < n) # a boolean index array \n",
    "    # Select only positive samples less than # of classes (i.e. values 0 - 10 for 11-class fcn)\n",
    "    return np.bincount(n * a[k].astype(int) + b[k], minlength=n**2).reshape(n, n)\n",
    "\n",
    "def compute_hist(net, save_dir, dataset, layer='score', gt='label'):\n",
    "    # N.B. channels refers to num_output pages for FCN\n",
    "    n_cl = net.blobs[layer].channels\n",
    "    if save_dir:    \n",
    "    \tos.mkdir(save_dir)\n",
    "    hist = np.zeros((n_cl, n_cl))\n",
    "    loss = 0\n",
    "    for idx in dataset:\n",
    "        net.forward()\n",
    "        hist += fast_hist(net.blobs[gt].data[0, 0].flatten(),\n",
    "                                net.blobs[layer].data[0].argmax(0).flatten(),\n",
    "                                n_cl)\n",
    "\n",
    "        if save_dir:\n",
    "            im = Image.fromarray(net.blobs[layer].data[0].argmax(0).astype(np.uint8), mode='P')\n",
    "            im.save(os.path.join(save_dir, idx + '.png'))\n",
    "        # compute the loss as well\n",
    "        loss += net.blobs['loss'].data.flat[0]\n",
    "    return hist, loss / len(dataset)\n",
    "\n",
    "def seg_tests(solver, save_format, dataset, layer='score', gt='label'):\n",
    "    print '>>>', datetime.now(), 'Begin seg tests'\n",
    "    solver.test_nets[0].share_with(solver.net)\n",
    "    do_seg_tests(solver.test_nets[0], solver.iter, save_format, dataset, layer, gt)\n",
    "\n",
    "def do_seg_tests(net, iter, save_format, dataset, layer='score', gt='label'):\n",
    "    n_cl = net.blobs[layer].channels\n",
    "    if save_format:\n",
    "        save_format = save_format.format(iter)\n",
    "    hist, loss = compute_hist(net, save_format, dataset, layer, gt)\n",
    "    # mean loss\n",
    "    print '>>>', datetime.now(), 'Iteration', iter, 'loss', loss\n",
    "    # overall accuracy\n",
    "    acc = np.diag(hist).sum() / hist.sum()\n",
    "    print '>>>', datetime.now(), 'Iteration', iter, 'overall accuracy', acc\n",
    "    # per-class accuracy\n",
    "    acc = np.diag(hist) / hist.sum(1)\n",
    "    print '>>>', datetime.now(), 'Iteration', iter, 'mean accuracy', np.nanmean(acc)\n",
    "    # per-class IU\n",
    "    iu = np.diag(hist) / (hist.sum(1) + hist.sum(0) - np.diag(hist))\n",
    "    print '>>>', datetime.now(), 'Iteration', iter, 'mean IU', np.nanmean(iu)\n",
    "    freq = hist.sum(1) / hist.sum()\n",
    "    print '>>>', datetime.now(), 'Iteration', iter, 'fwavacc', \\\n",
    "            (freq[freq > 0] * iu[freq > 0]).sum()\n",
    "    return hist"
   ]
  },
  {
   "cell_type": "code",
   "execution_count": 33,
   "metadata": {
    "collapsed": false
   },
   "outputs": [
    {
     "data": {
      "text/plain": [
       "{'loss': array([[[[  9.79214311e-01,   9.83027458e-01,   9.86124396e-01, ...,\n",
       "             9.97458637e-01,   9.97519135e-01,   9.97577846e-01],\n",
       "          [  9.82521892e-01,   9.85827565e-01,   9.88494694e-01, ...,\n",
       "             9.98159230e-01,   9.98206377e-01,   9.98250425e-01],\n",
       "          [  9.85293806e-01,   9.88158286e-01,   9.90454078e-01, ...,\n",
       "             9.98666286e-01,   9.98702288e-01,   9.98736441e-01],\n",
       "          ..., \n",
       "          [  9.91104484e-01,   9.93174136e-01,   9.94759142e-01, ...,\n",
       "             9.97570574e-01,   9.97614384e-01,   9.97657180e-01],\n",
       "          [  9.90115404e-01,   9.92370725e-01,   9.94108558e-01, ...,\n",
       "             9.97284651e-01,   9.97331619e-01,   9.97377396e-01],\n",
       "          [  9.89012361e-01,   9.91470993e-01,   9.93375599e-01, ...,\n",
       "             9.96964633e-01,   9.97014761e-01,   9.97063816e-01]],\n",
       " \n",
       "         [[  1.26545960e-02,   1.06129656e-02,   8.89413618e-03, ...,\n",
       "             1.67442090e-03,   1.64574641e-03,   1.61755853e-03],\n",
       "          [  1.07900472e-02,   8.98190215e-03,   7.47184549e-03, ...,\n",
       "             1.22101698e-03,   1.20035652e-03,   1.18004368e-03],\n",
       "          [  9.19511262e-03,   7.59783853e-03,   6.27436442e-03, ...,\n",
       "             8.90212657e-04,   8.75336060e-04,   8.60706321e-04],\n",
       "          ..., \n",
       "          [  3.74085968e-03,   2.89895013e-03,   2.24541291e-03, ...,\n",
       "             1.06418878e-03,   1.03570835e-03,   1.00798917e-03],\n",
       "          [  4.22648247e-03,   3.29660717e-03,   2.56996416e-03, ...,\n",
       "             1.20972877e-03,   1.17727439e-03,   1.14568998e-03],\n",
       "          [  4.77458490e-03,   3.74844368e-03,   2.94118561e-03, ...,\n",
       "             1.37512560e-03,   1.33814523e-03,   1.30215799e-03]],\n",
       " \n",
       "         [[  5.36764227e-03,   4.28522937e-03,   3.41855478e-03, ...,\n",
       "             6.69928675e-04,   6.34399767e-04,   6.00753468e-04],\n",
       "          [  4.40925499e-03,   3.48539418e-03,   2.75329547e-03, ...,\n",
       "             4.80851246e-04,   4.52830544e-04,   4.26441780e-04],\n",
       "          [  3.61997425e-03,   2.83347745e-03,   2.21656612e-03, ...,\n",
       "             3.45070555e-04,   3.23165645e-04,   3.02651111e-04],\n",
       "          ..., \n",
       "          [  3.99677409e-03,   3.09155416e-03,   2.39018048e-03, ...,\n",
       "             1.12614362e-03,   1.11388799e-03,   1.10176427e-03],\n",
       "          [  4.37780423e-03,   3.40481289e-03,   2.64668185e-03, ...,\n",
       "             1.24177884e-03,   1.23029167e-03,   1.21890858e-03],\n",
       "          [  4.79460042e-03,   3.74944671e-03,   2.93047051e-03, ...,\n",
       "             1.36924139e-03,   1.35881233e-03,   1.34846172e-03]],\n",
       " \n",
       "         ..., \n",
       "         [[  6.53600655e-05,   4.19664648e-05,   2.69258890e-05, ...,\n",
       "             2.41178213e-06,   2.46157606e-06,   2.51238885e-06],\n",
       "          [  4.43684148e-05,   2.79334799e-05,   1.75748191e-05, ...,\n",
       "             1.32280115e-06,   1.34855873e-06,   1.37481607e-06],\n",
       "          [  3.01019045e-05,   1.85839654e-05,   1.14664517e-05, ...,\n",
       "             7.25379891e-07,   7.38658059e-07,   7.52178664e-07],\n",
       "          ..., \n",
       "          [  3.41060804e-05,   2.13170297e-05,   1.33170415e-05, ...,\n",
       "             9.40200209e-07,   9.25015797e-07,   9.10075698e-07],\n",
       "          [  4.04129605e-05,   2.54986553e-05,   1.60799846e-05, ...,\n",
       "             1.17343200e-06,   1.15566536e-06,   1.13816645e-06],\n",
       "          [  4.78804977e-05,   3.04976129e-05,   1.94146087e-05, ...,\n",
       "             1.46447189e-06,   1.44377714e-06,   1.42337331e-06]],\n",
       " \n",
       "         [[  6.53600655e-05,   4.19664648e-05,   2.69258890e-05, ...,\n",
       "             2.41178213e-06,   2.46157606e-06,   2.51238885e-06],\n",
       "          [  4.43684148e-05,   2.79334799e-05,   1.75748191e-05, ...,\n",
       "             1.32280115e-06,   1.34855873e-06,   1.37481607e-06],\n",
       "          [  3.01019045e-05,   1.85839654e-05,   1.14664517e-05, ...,\n",
       "             7.25379891e-07,   7.38658059e-07,   7.52178664e-07],\n",
       "          ..., \n",
       "          [  3.41060804e-05,   2.13170297e-05,   1.33170415e-05, ...,\n",
       "             9.40200209e-07,   9.25015797e-07,   9.10075698e-07],\n",
       "          [  4.04129605e-05,   2.54986553e-05,   1.60799846e-05, ...,\n",
       "             1.17343200e-06,   1.15566536e-06,   1.13816645e-06],\n",
       "          [  4.78804977e-05,   3.04976129e-05,   1.94146087e-05, ...,\n",
       "             1.46447189e-06,   1.44377714e-06,   1.42337331e-06]],\n",
       " \n",
       "         [[  6.53600655e-05,   4.19664648e-05,   2.69258890e-05, ...,\n",
       "             2.41178213e-06,   2.46157606e-06,   2.51238885e-06],\n",
       "          [  4.43684148e-05,   2.79334799e-05,   1.75748191e-05, ...,\n",
       "             1.32280115e-06,   1.34855873e-06,   1.37481607e-06],\n",
       "          [  3.01019045e-05,   1.85839654e-05,   1.14664517e-05, ...,\n",
       "             7.25379891e-07,   7.38658059e-07,   7.52178664e-07],\n",
       "          ..., \n",
       "          [  3.41060804e-05,   2.13170297e-05,   1.33170415e-05, ...,\n",
       "             9.40200209e-07,   9.25015797e-07,   9.10075698e-07],\n",
       "          [  4.04129605e-05,   2.54986553e-05,   1.60799846e-05, ...,\n",
       "             1.17343200e-06,   1.15566536e-06,   1.13816645e-06],\n",
       "          [  4.78804977e-05,   3.04976129e-05,   1.94146087e-05, ...,\n",
       "             1.46447189e-06,   1.44377714e-06,   1.42337331e-06]]]], dtype=float32)}"
      ]
     },
     "execution_count": 33,
     "metadata": {},
     "output_type": "execute_result"
    }
   ],
   "source": [
    "caffe.set_device(0)\n",
    "caffe.set_mode_cpu()\n",
    "\n",
    "caffe_root = '/home/cv/hdl/caffe'\n",
    "part = 'head'\n",
    "models = '{}/models'.format(caffe_root)\n",
    "\n",
    "# load image, switch to BGR, subtract mean, and make dims C x H x W for Caffe\n",
    "im = Image.open('/home/cv/grayson/shelby_medium.jpg')\n",
    "in_ = np.array(im, dtype=np.float32)\n",
    "in_ = in_[:,:,::-1]\n",
    "in_ -= np.array((104.00698793,116.66876762,122.67891434))\n",
    "in_ = in_.transpose((2,0,1))\n",
    "\n",
    "# load net\n",
    "# net = caffe.Net('model/deploy.prototxt',\n",
    "#                 '{}/pascalpart-fcn32s/person/head/old_snapshots/train_iter_176000.caffemodel'.format(models), \n",
    "#                 caffe.TEST)\n",
    "net = caffe.Net('model/deploy.prototxt',\n",
    "                'snapshot/train_iter_80000.caffemodel'.format(models), \n",
    "                caffe.TEST)\n",
    "\n",
    "# shape for input (data blob is N x C x H x W), set data\n",
    "net.blobs['data'].reshape(1, *in_.shape)\n",
    "net.blobs['data'].data[...] = in_\n",
    "\n",
    "# must do forward pass or else blobs and deconv params will be all zeroes\n",
    "net.forward()  "
   ]
  },
  {
   "cell_type": "code",
   "execution_count": 15,
   "metadata": {
    "collapsed": false
   },
   "outputs": [
    {
     "data": {
      "text/plain": [
       "0.98492253"
      ]
     },
     "execution_count": 15,
     "metadata": {},
     "output_type": "execute_result"
    }
   ],
   "source": [
    "# just the loss\n",
    "net.blobs['loss'].data.flat[0]"
   ]
  },
  {
   "cell_type": "code",
   "execution_count": 16,
   "metadata": {
    "collapsed": false
   },
   "outputs": [],
   "source": [
    "# solver = caffe.SGDSolver('model/solver.prototxt')\n",
    "# solver.test_nets[0].share_with(solver.net)\n",
    "# val = np.loadtxt('{}/data/pascal/VOC/VOC2010/ImageSets/person/{}_val.txt'.format(caffe_root, part), dtype=str)\n",
    "\n",
    "# hist, loss = do_seg_tests(solver.test_nets[0], solver.iter, False, val, 'score', 'label')\n",
    "\n",
    "# hist += fast_hist(net.blobs['label'].data[0, 0].flatten(),\n",
    "#                                 net.blobs['score'].data[0].argmax(0).flatten(),\n",
    "#                                 11)"
   ]
  },
  {
   "cell_type": "code",
   "execution_count": 17,
   "metadata": {
    "collapsed": true
   },
   "outputs": [],
   "source": [
    "# plt.figure()\n",
    "# plt.imshow(hist)"
   ]
  },
  {
   "cell_type": "code",
   "execution_count": 18,
   "metadata": {
    "collapsed": false
   },
   "outputs": [
    {
     "data": {
      "text/plain": [
       "11"
      ]
     },
     "execution_count": 18,
     "metadata": {},
     "output_type": "execute_result"
    }
   ],
   "source": [
    "net.blobs['score'].channels"
   ]
  },
  {
   "cell_type": "code",
   "execution_count": 19,
   "metadata": {
    "collapsed": false,
    "scrolled": true
   },
   "outputs": [],
   "source": [
    "# print np.shape(net.blobs['label'].data[0,0])"
   ]
  },
  {
   "cell_type": "code",
   "execution_count": 20,
   "metadata": {
    "collapsed": false
   },
   "outputs": [],
   "source": [
    "# print np.shape(net.blobs['score'].data[0].argmax(0))\n",
    "# print np.unique(net.blobs['score'].data[0].argmax(0))"
   ]
  },
  {
   "cell_type": "code",
   "execution_count": 21,
   "metadata": {
    "collapsed": false
   },
   "outputs": [],
   "source": [
    "#solver = caffe.SGDSolver('solver.prototxt')\n",
    "#val = np.loadtxt('/home/cv/hdl/caffe/data/pascal/VOC/VOC2010/ImageSets/person/head_val.txt', dtype=str)"
   ]
  },
  {
   "cell_type": "code",
   "execution_count": 22,
   "metadata": {
    "collapsed": false
   },
   "outputs": [],
   "source": [
    "#hist, loss = score.compute_hist(solver.test_nets[0], 'segmentation_results', val, layer='score', gt='label' )"
   ]
  },
  {
   "cell_type": "code",
   "execution_count": 23,
   "metadata": {
    "collapsed": false
   },
   "outputs": [
    {
     "data": {
      "text/plain": [
       "11"
      ]
     },
     "execution_count": 23,
     "metadata": {},
     "output_type": "execute_result"
    }
   ],
   "source": [
    "net.blobs['score'].channels"
   ]
  },
  {
   "cell_type": "code",
   "execution_count": 24,
   "metadata": {
    "collapsed": false
   },
   "outputs": [],
   "source": [
    "# blobs\n",
    "# [(k, v.data.shape) for k, v in net.blobs.items()]"
   ]
  },
  {
   "cell_type": "code",
   "execution_count": 25,
   "metadata": {
    "collapsed": false
   },
   "outputs": [],
   "source": [
    "# parameters\n",
    "# [(k, v[0].data.shape) for k, v in net.params.items()]"
   ]
  },
  {
   "cell_type": "code",
   "execution_count": 26,
   "metadata": {
    "collapsed": false
   },
   "outputs": [],
   "source": [
    "# conv layer weights (edge_detectors)\n",
    "# print net.params['fc6'][0].data"
   ]
  },
  {
   "cell_type": "code",
   "execution_count": 27,
   "metadata": {
    "collapsed": false
   },
   "outputs": [],
   "source": [
    "# deconv layer weights\n",
    "# print net.params['conv1_1'][0].data"
   ]
  },
  {
   "cell_type": "code",
   "execution_count": 28,
   "metadata": {
    "collapsed": false
   },
   "outputs": [],
   "source": [
    "# data blob\n",
    "# print net.blobs['data'].data"
   ]
  },
  {
   "cell_type": "code",
   "execution_count": 29,
   "metadata": {
    "collapsed": false
   },
   "outputs": [],
   "source": [
    "# conv1_1 blob\n",
    "# print net.blobs['conv1_1'].data"
   ]
  },
  {
   "cell_type": "code",
   "execution_count": 30,
   "metadata": {
    "collapsed": false
   },
   "outputs": [],
   "source": [
    "# pool1 blob\n",
    "# print net.blobs['pool1'].data"
   ]
  },
  {
   "cell_type": "code",
   "execution_count": 31,
   "metadata": {
    "collapsed": false
   },
   "outputs": [],
   "source": [
    "# upscore blob\n",
    "# print net.blobs['upscore'].data.shape\n",
    "# print net.blobs['upscore'].data"
   ]
  },
  {
   "cell_type": "code",
   "execution_count": 32,
   "metadata": {
    "collapsed": false,
    "scrolled": true
   },
   "outputs": [
    {
     "name": "stdout",
     "output_type": "stream",
     "text": [
      "(11, 500, 650)\n",
      "Image size: (500, 650)\n",
      "Detected object classes: [0 2]\n"
     ]
    },
    {
     "data": {
      "image/png": "[encoded data removed]",
      "text/plain": [
       "<matplotlib.figure.Figure at 0x7f507c0eaf50>"
      ]
     },
     "metadata": {},
     "output_type": "display_data"
    }
   ],
   "source": [
    "higher_level_filter = net.params['fc7'][0].data         # weights\n",
    "# Recall: blob dimensions are N x C x H x W\n",
    "print net.blobs['score'].data[0].shape\n",
    "out = net.blobs['score'].data[0].argmax(axis=0)\n",
    "fig = plt.figure()\n",
    "plt.axis('off')\n",
    "plt.title('head_inference')\n",
    "imgplot = plt.imshow(out)\n",
    "print 'Image size:', out.shape\n",
    "print 'Detected object classes:', np.unique(out)"
   ]
  },
  {
   "cell_type": "code",
   "execution_count": 17,
   "metadata": {
    "collapsed": true
   },
   "outputs": [],
   "source": [
    "fig.savefig('torso_inference.png')"
   ]
  },
  {
   "cell_type": "code",
   "execution_count": null,
   "metadata": {
    "collapsed": true
   },
   "outputs": [],
   "source": []
  }
 ],
 "metadata": {
  "kernelspec": {
   "display_name": "Python 2",
   "language": "python",
   "name": "python2"
  },
  "language_info": {
   "codemirror_mode": {
    "name": "ipython",
    "version": 2
   },
   "file_extension": ".py",
   "mimetype": "text/x-python",
   "name": "python",
   "nbconvert_exporter": "python",
   "pygments_lexer": "ipython2",
   "version": "2.7.6"
  }
 },
 "nbformat": 4,
 "nbformat_minor": 0
}
