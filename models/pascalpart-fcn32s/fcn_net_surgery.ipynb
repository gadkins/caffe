{
 "cells": [
  {
   "cell_type": "code",
   "execution_count": 1,
   "metadata": {
    "collapsed": true
   },
   "outputs": [],
   "source": [
    "import numpy as np\n",
    "import matplotlib.pyplot as plt\n",
    "%matplotlib inline\n",
    "\n",
    "# Make sure that caffe is on the python path:\n",
    "caffe_root = '../'  # this file is expected to be in {caffe_root}/examples\n",
    "import sys\n",
    "sys.path.insert(0, caffe_root + 'python')\n",
    "\n",
    "import caffe\n",
    "\n",
    "caffe.set_mode_gpu()"
   ]
  },
  {
   "cell_type": "code",
   "execution_count": 2,
   "metadata": {
    "collapsed": false
   },
   "outputs": [
    {
     "name": "stdout",
     "output_type": "stream",
     "text": [
      "fc6 weights are (4096, 25088) dimensional and biases are (4096,) dimensional\n",
      "fc7 weights are (4096, 4096) dimensional and biases are (4096,) dimensional\n",
      "fc8 weights are (1000, 4096) dimensional and biases are (1000,) dimensional\n"
     ]
    }
   ],
   "source": [
    "# Load the original network and extract the fully connected layers' parameters.\n",
    "net = caffe.Net('../vgg16/VGG_ILSVRC_16_layers_deploy.prototxt', \n",
    "                '../vgg16/VGG_ILSVRC_16_layers.caffemodel', \n",
    "                caffe.TEST)\n",
    "params = ['fc6', 'fc7', 'fc8']\n",
    "# fc_params = {name: (weights, biases)}\n",
    "fc_params = {pr: (net.params[pr][0].data, net.params[pr][1].data) for pr in params}\n",
    "\n",
    "for fc in params:\n",
    "    print '{} weights are {} dimensional and biases are {} dimensional'.format(fc, fc_params[fc][0].shape, fc_params[fc][1].shape)"
   ]
  },
  {
   "cell_type": "code",
   "execution_count": 3,
   "metadata": {
    "collapsed": false
   },
   "outputs": [
    {
     "name": "stdout",
     "output_type": "stream",
     "text": [
      "fc6 weights are (4096, 512, 7, 7) dimensional and biases are (4096,) dimensional\n",
      "fc7 weights are (4096, 4096, 1, 1) dimensional and biases are (4096,) dimensional\n"
     ]
    }
   ],
   "source": [
    "# Load the fully convolutional network to transplant the parameters.\n",
    "net_full_conv = caffe.Net('person/head/train.prototxt', \n",
    "                          caffe.TEST)\n",
    "params_full_conv = ['fc6', 'fc7']\n",
    "# conv_params = {name: (weights, biases)}\n",
    "conv_params = {pr: (net_full_conv.params[pr][0].data, net_full_conv.params[pr][1].data) for pr in params_full_conv}\n",
    "\n",
    "for conv in params_full_conv:\n",
    "    print '{} weights are {} dimensional and biases are {} dimensional'.format(conv, conv_params[conv][0].shape, conv_params[conv][1].shape)"
   ]
  },
  {
   "cell_type": "code",
   "execution_count": 4,
   "metadata": {
    "collapsed": true
   },
   "outputs": [],
   "source": [
    "# Transplant\n",
    "for pr, pr_conv in zip(params, params_full_conv):\n",
    "    conv_params[pr_conv][0].flat = fc_params[pr][0].flat  # flat unrolls the arrays\n",
    "    conv_params[pr_conv][1][...] = fc_params[pr][1]"
   ]
  },
  {
   "cell_type": "code",
   "execution_count": 5,
   "metadata": {
    "collapsed": true
   },
   "outputs": [],
   "source": [
    "net_full_conv.save('person/head/vgg16fc.caffemodel')"
   ]
  },
  {
   "cell_type": "code",
   "execution_count": null,
   "metadata": {
    "collapsed": true
   },
   "outputs": [],
   "source": []
  }
 ],
 "metadata": {
  "kernelspec": {
   "display_name": "Python 2",
   "language": "python",
   "name": "python2"
  },
  "language_info": {
   "codemirror_mode": {
    "name": "ipython",
    "version": 2
   },
   "file_extension": ".py",
   "mimetype": "text/x-python",
   "name": "python",
   "nbconvert_exporter": "python",
   "pygments_lexer": "ipython2",
   "version": "2.7.6"
  }
 },
 "nbformat": 4,
 "nbformat_minor": 0
}
