{
 "cells": [
  {
   "cell_type": "code",
   "execution_count": 1,
   "metadata": {
    "collapsed": false
   },
   "outputs": [],
   "source": [
    "import numpy as np\n",
    "import matplotlib.pyplot as plt\n",
    "%matplotlib inline\n",
    "\n",
    "# Make sure that caffe is on the python path:\n",
    "caffe_root = '../'  # this file is expected to be in {caffe_root}/examples\n",
    "import sys\n",
    "sys.path.insert(0, caffe_root + 'python')\n",
    "\n",
    "import caffe\n",
    "\n",
    "caffe.set_device(0)\n",
    "caffe.set_mode_gpu()\n",
    "\n",
    "caffe_root = '/home/cv/hdl/caffe'\n",
    "training = '{}/training/pascalpart-fcn32s'.format(caffe_root)"
   ]
  },
  {
   "cell_type": "code",
   "execution_count": 2,
   "metadata": {
    "collapsed": false
   },
   "outputs": [
    {
     "name": "stdout",
     "output_type": "stream",
     "text": [
      "fc6 weights are (4096, 25088) dimensional and biases are (4096,) dimensional\n",
      "fc7 weights are (4096, 4096) dimensional and biases are (4096,) dimensional\n"
     ]
    }
   ],
   "source": [
    "# Load the original network and extract the fully connected layers' parameters.\n",
    "net = caffe.Net('../models/vgg16/VGG_ILSVRC_16_layers_deploy.prototxt', \n",
    "                '../models/vgg16/VGG_ILSVRC_16_layers.caffemodel', \n",
    "                caffe.TEST)\n",
    "params = ['fc6', 'fc7']\n",
    "# params = [pr for pr in net.params.keys() if 'fc8' not in pr]\n",
    "# fc_params = {name: (weights, biases)}\n",
    "fc_params = {pr: (net.params[pr][0].data, net.params[pr][1].data) for pr in params}\n",
    "\n",
    "for fc in params:\n",
    "    print '{} weights are {} dimensional and biases are {} dimensional'.format(fc, fc_params[fc][0].shape, fc_params[fc][1].shape)\n"
   ]
  },
  {
   "cell_type": "code",
   "execution_count": 3,
   "metadata": {
    "collapsed": false
   },
   "outputs": [
    {
     "name": "stdout",
     "output_type": "stream",
     "text": [
      "fc6 weights are (4096, 512, 7, 7) dimensional and biases are (4096,) dimensional\n",
      "fc7 weights are (4096, 4096, 1, 1) dimensional and biases are (4096,) dimensional\n"
     ]
    }
   ],
   "source": [
    "# Load the fully convolutional network to transplant the parameters.\n",
    "net_full_conv = caffe.Net('{}/person/head/train.prototxt'.format(training),\n",
    "                          caffe.TEST)\n",
    "solver = caffe.SGDSolver('{}/person/head/model/solver.prototxt'.format(training))\n",
    "params_full_conv = ['fc6', 'fc7']\n",
    "# params_full_conv = [pr for pr in net_full_conv.params.keys() if 'score' not in pr]\n",
    "# conv_params = {name: (weights, biases)}\n",
    "conv_params = {pr: (net_full_conv.params[pr][0].data, net_full_conv.params[pr][1].data) for pr in params_full_conv}\n",
    "\n",
    "for conv in params_full_conv:\n",
    "    print '{} weights are {} dimensional and biases are {} dimensional'.format(conv, conv_params[conv][0].shape, conv_params[conv][1].shape)"
   ]
  },
  {
   "cell_type": "code",
   "execution_count": 4,
   "metadata": {
    "collapsed": false
   },
   "outputs": [],
   "source": [
    "for pr, pr_conv in zip(params, params_full_conv):\n",
    "    conv_params[pr_conv][0].flat = fc_params[pr][0].flat  # flat unrolls the arrays\n",
    "    conv_params[pr_conv][1][...] = fc_params[pr][1]"
   ]
  },
  {
   "cell_type": "markdown",
   "metadata": {},
   "source": [
    "Next, save the new model weights."
   ]
  },
  {
   "cell_type": "code",
   "execution_count": 5,
   "metadata": {
    "collapsed": false
   },
   "outputs": [],
   "source": [
    "net_full_conv.save('../training/pascalpart-fcn32s/person/xavier_w_bilinear_vgg16fc.caffemodel')"
   ]
  },
  {
   "cell_type": "code",
   "execution_count": 6,
   "metadata": {
    "collapsed": false
   },
   "outputs": [
    {
     "name": "stdout",
     "output_type": "stream",
     "text": [
      "[[[[ 0.25916877 -0.13925445  0.24649265]\n",
      "   [ 0.09279403  0.14464113 -0.30822614]\n",
      "   [ 0.01478469  0.1358164   0.21603623]]\n",
      "\n",
      "  [[-0.22692929 -0.06267941 -0.19831759]\n",
      "   [ 0.09108618  0.18931279  0.19261226]\n",
      "   [ 0.20259199  0.06351641  0.00712711]]\n",
      "\n",
      "  [[ 0.18404546  0.11136398 -0.30799305]\n",
      "   [ 0.00252679  0.31519625  0.08149803]\n",
      "   [-0.04564217 -0.09791774 -0.13370386]]]\n",
      "\n",
      "\n",
      " [[[-0.14407367  0.01042938 -0.26521158]\n",
      "   [ 0.00628915 -0.33142284  0.25094244]\n",
      "   [ 0.13306841  0.09720412  0.02138585]]\n",
      "\n",
      "  [[ 0.30945453  0.04634127 -0.05893001]\n",
      "   [ 0.1907132   0.02065486  0.31245592]\n",
      "   [ 0.32478908  0.0125587  -0.09336098]]\n",
      "\n",
      "  [[-0.02415955 -0.28994787  0.29045674]\n",
      "   [-0.26795888 -0.09223054 -0.26501697]\n",
      "   [-0.2261124  -0.22427616 -0.05292854]]]\n",
      "\n",
      "\n",
      " [[[ 0.01076689 -0.14725414  0.00784254]\n",
      "   [-0.14869089  0.12163162  0.1288147 ]\n",
      "   [ 0.25504896 -0.27324128 -0.22855178]]\n",
      "\n",
      "  [[-0.03750649  0.02560547  0.04597911]\n",
      "   [ 0.20515385 -0.250819    0.17449966]\n",
      "   [ 0.03175119 -0.20552893 -0.13631243]]\n",
      "\n",
      "  [[-0.11722241  0.17501888 -0.15850322]\n",
      "   [-0.23469296  0.13170764  0.19756845]\n",
      "   [-0.0997241   0.12013921  0.24450698]]]\n",
      "\n",
      "\n",
      " ..., \n",
      " [[[-0.26405007 -0.04505563 -0.20182295]\n",
      "   [-0.03184041  0.08149156  0.09202912]\n",
      "   [ 0.12856412  0.10469016 -0.29356244]]\n",
      "\n",
      "  [[ 0.15794975  0.11197826  0.23307344]\n",
      "   [ 0.04065198  0.22613218 -0.06972399]\n",
      "   [ 0.15253145 -0.32522523 -0.27378806]]\n",
      "\n",
      "  [[-0.22550681 -0.32464895  0.24712422]\n",
      "   [ 0.29085556 -0.0242117   0.18169227]\n",
      "   [-0.1937817  -0.0137507   0.20137456]]]\n",
      "\n",
      "\n",
      " [[[ 0.00342551 -0.08884633 -0.30816126]\n",
      "   [ 0.12803155 -0.0698218  -0.18619788]\n",
      "   [-0.01112145  0.18579903 -0.09670533]]\n",
      "\n",
      "  [[-0.06318012 -0.05604735  0.16693255]\n",
      "   [ 0.31091198 -0.2366768   0.23579624]\n",
      "   [ 0.25042453 -0.16097282 -0.29626763]]\n",
      "\n",
      "  [[-0.12332043 -0.12550458 -0.29367679]\n",
      "   [-0.05898353  0.25274476  0.20585993]\n",
      "   [-0.10687426 -0.32284874 -0.1554224 ]]]\n",
      "\n",
      "\n",
      " [[[-0.30751333  0.03077215  0.12396455]\n",
      "   [ 0.29250547 -0.01598683  0.24598595]\n",
      "   [ 0.04875159 -0.1041761  -0.01640582]]\n",
      "\n",
      "  [[-0.09842117  0.0698081   0.33277902]\n",
      "   [ 0.26685396 -0.28358662  0.11578557]\n",
      "   [ 0.08082768 -0.19366667 -0.25601184]]\n",
      "\n",
      "  [[ 0.25282344 -0.05600965 -0.09642757]\n",
      "   [ 0.00282711 -0.19295108 -0.14046799]\n",
      "   [-0.21150386  0.16331932  0.11543342]]]]\n"
     ]
    }
   ],
   "source": [
    "print net_full_conv.params['conv1_1'][0].data"
   ]
  },
  {
   "cell_type": "code",
   "execution_count": null,
   "metadata": {
    "collapsed": true
   },
   "outputs": [],
   "source": []
  }
 ],
 "metadata": {
  "description": "How to do net surgery and manually change model parameters for custom use.",
  "example_name": "Editing model parameters",
  "include_in_docs": true,
  "kernelspec": {
   "display_name": "Python 2",
   "language": "python",
   "name": "python2"
  },
  "language_info": {
   "codemirror_mode": {
    "name": "ipython",
    "version": 2
   },
   "file_extension": ".py",
   "mimetype": "text/x-python",
   "name": "python",
   "nbconvert_exporter": "python",
   "pygments_lexer": "ipython2",
   "version": "2.7.6"
  },
  "priority": 5
 },
 "nbformat": 4,
 "nbformat_minor": 0
}
